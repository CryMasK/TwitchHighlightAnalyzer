{
 "cells": [
  {
   "cell_type": "code",
   "execution_count": 1,
   "metadata": {
    "ExecuteTime": {
     "end_time": "2019-07-09T04:26:14.873171Z",
     "start_time": "2019-07-09T04:26:14.856177Z"
    }
   },
   "outputs": [],
   "source": [
    "import os\n",
    "import json\n",
    "import nltk\n",
    "import math\n",
    "import numpy as np\n",
    "from nltk.tokenize import TweetTokenizer"
   ]
  },
  {
   "cell_type": "code",
   "execution_count": 2,
   "metadata": {
    "ExecuteTime": {
     "end_time": "2019-07-09T04:26:42.375971Z",
     "start_time": "2019-07-09T04:26:42.371972Z"
    }
   },
   "outputs": [],
   "source": [
    "tknzr = TweetTokenizer(reduce_len=True)\n",
    "\n",
    "videoLength = 28662 # temp const\n",
    "numberOfMessage = 1276 # temp const"
   ]
  },
  {
   "cell_type": "code",
   "execution_count": 3,
   "metadata": {
    "ExecuteTime": {
     "end_time": "2019-07-09T04:26:56.947960Z",
     "start_time": "2019-07-09T04:26:56.940960Z"
    },
    "code_folding": [
     0
    ]
   },
   "outputs": [],
   "source": [
    "def normalized_shannon_entropy(text): # entropy diversity measure (normalized)\n",
    "    entropy = 0\n",
    "    \n",
    "    textLength = len(text)\n",
    "    if textLength <= 1:\n",
    "        return 0\n",
    "    else:\n",
    "        vocabulary = set(text)\n",
    "        for word in vocabulary:\n",
    "            p = text.count(word) / textLength\n",
    "\n",
    "            entropy -= p * math.log2(p)\n",
    "\n",
    "        return entropy / math.log2(textLength)"
   ]
  },
  {
   "cell_type": "code",
   "execution_count": 6,
   "metadata": {
    "ExecuteTime": {
     "end_time": "2019-07-09T04:44:52.010121Z",
     "start_time": "2019-07-09T04:44:49.362938Z"
    }
   },
   "outputs": [],
   "source": [
    "messages = [[] for i in range(videoLength)]\n",
    "for i in range(1, numberOfMessage + 1):\n",
    "    with open(\"../TwitchHighlightCrawler/vod/lirik/389178879/Message-\" + str(i) + \".json\", \"r\", encoding=\"utf-8\") as file:\n",
    "        data = file.read()\n",
    "    commentData = json.loads(data)['comments']\n",
    "    for comment in commentData:\n",
    "        offset = math.floor( comment['content_offset_seconds'] ) # get comment offset\n",
    "\n",
    "        if offset >= videoLength:\n",
    "            break\n",
    "\n",
    "        messages[offset].append( comment['message']['body'] )\n",
    "        \n",
    "i = 0\n",
    "clip_distribution = np.zeros(101, np.int64)\n",
    "while i < videoLength:\n",
    "    localMessage = ''\n",
    "    for j in range(i, i+30):\n",
    "        if j >= videoLength:\n",
    "            break\n",
    "        \n",
    "        localMessage += ' '.join(messages[j]) + ' '\n",
    "            \n",
    "    localTokens = tknzr.tokenize(localMessage) # tokenization\n",
    "    localText = nltk.text.Text(localTokens) # convert tokens to NLTK text\n",
    "\n",
    "    score = normalized_shannon_entropy(localText)\n",
    "    clip_distribution[ math.floor(score * 100) ] += 1\n",
    "    \n",
    "    i += 30"
   ]
  },
  {
   "cell_type": "code",
   "execution_count": 7,
   "metadata": {
    "ExecuteTime": {
     "end_time": "2019-07-09T04:44:52.017110Z",
     "start_time": "2019-07-09T04:44:52.011105Z"
    }
   },
   "outputs": [
    {
     "name": "stdout",
     "output_type": "stream",
     "text": [
      "[ 0  0  0  0  0  0  0  0  0  0  0  0  0  0  0  0  0  0  0  0  0  0  0  0\n",
      "  0  0  0  0  1  0  1  1  1  1  0  0  2  0  2  1  1  2  0  1  5  1  1  2\n",
      "  1  2  0  5  2  1  3  3  0  1  1  2  1  0  1  2  1  0  4  2 10  5 11 15\n",
      "  4 11  8 17 18 25 24 26 28 28 45 49 43 53 63 68 68 65 60 62 44 18 16 10\n",
      "  4  2  1  0  0]\n"
     ]
    }
   ],
   "source": [
    "print(clip_distribution)"
   ]
  },
  {
   "cell_type": "code",
   "execution_count": null,
   "metadata": {},
   "outputs": [],
   "source": []
  }
 ],
 "metadata": {
  "kernelspec": {
   "display_name": "Python 3",
   "language": "python",
   "name": "python3"
  },
  "language_info": {
   "codemirror_mode": {
    "name": "ipython",
    "version": 3
   },
   "file_extension": ".py",
   "mimetype": "text/x-python",
   "name": "python",
   "nbconvert_exporter": "python",
   "pygments_lexer": "ipython3",
   "version": "3.6.8"
  }
 },
 "nbformat": 4,
 "nbformat_minor": 2
}
