{
 "cells": [
  {
   "cell_type": "code",
   "execution_count": 11,
   "metadata": {
    "ExecuteTime": {
     "end_time": "2019-09-15T09:50:37.421107Z",
     "start_time": "2019-09-15T09:50:30.459574Z"
    }
   },
   "outputs": [],
   "source": [
    "import os\n",
    "import json\n",
    "import nltk\n",
    "import math\n",
    "import numpy as np\n",
    "from nltk.tokenize import TweetTokenizer"
   ]
  },
  {
   "cell_type": "code",
   "execution_count": 14,
   "metadata": {
    "ExecuteTime": {
     "end_time": "2019-09-15T12:39:02.710251Z",
     "start_time": "2019-09-15T12:39:02.705254Z"
    }
   },
   "outputs": [],
   "source": [
    "tknzr = TweetTokenizer(reduce_len=True)\n",
    "\n",
    "videoLength = 28662 # temp const\n",
    "numberOfMessage = 1276 # temp const"
   ]
  },
  {
   "cell_type": "code",
   "execution_count": 3,
   "metadata": {
    "ExecuteTime": {
     "end_time": "2019-07-09T04:26:56.947960Z",
     "start_time": "2019-07-09T04:26:56.940960Z"
    },
    "code_folding": [
     0
    ]
   },
   "outputs": [],
   "source": [
    "def normalized_shannon_entropy(text): # entropy diversity measure (normalized)\n",
    "    entropy = 0\n",
    "    \n",
    "    textLength = len(text)\n",
    "    if textLength <= 1:\n",
    "        return 0\n",
    "    else:\n",
    "        vocabulary = set(text)\n",
    "        for word in vocabulary:\n",
    "            p = text.count(word) / textLength\n",
    "\n",
    "            entropy -= p * math.log2(p)\n",
    "\n",
    "        return entropy / math.log2(textLength)"
   ]
  },
  {
   "cell_type": "code",
   "execution_count": 6,
   "metadata": {
    "ExecuteTime": {
     "end_time": "2019-07-09T04:44:52.010121Z",
     "start_time": "2019-07-09T04:44:49.362938Z"
    },
    "code_folding": [
     1,
     15
    ]
   },
   "outputs": [],
   "source": [
    "messages = [[] for i in range(videoLength)]\n",
    "for i in range(1, numberOfMessage + 1):\n",
    "    with open(\"../TwitchHighlightCrawler/vod/lirik/389178879/Message-\" + str(i) + \".json\", \"r\", encoding=\"utf-8\") as file:\n",
    "        data = file.read()\n",
    "    commentData = json.loads(data)['comments']\n",
    "    for comment in commentData:\n",
    "        offset = math.floor( comment['content_offset_seconds'] ) # get comment offset\n",
    "\n",
    "        if offset >= videoLength:\n",
    "            break\n",
    "\n",
    "        messages[offset].append( comment['message']['body'] )\n",
    "        \n",
    "i = 0\n",
    "clip_distribution = np.zeros(101, np.int64)\n",
    "while i < videoLength:\n",
    "    localMessage = ''\n",
    "    for j in range(i, i+30):\n",
    "        if j >= videoLength:\n",
    "            break\n",
    "        \n",
    "        localMessage += ' '.join(messages[j]) + ' '\n",
    "            \n",
    "    localTokens = tknzr.tokenize(localMessage) # tokenization\n",
    "    localText = nltk.text.Text(localTokens) # convert tokens to NLTK text\n",
    "\n",
    "    score = normalized_shannon_entropy(localText)\n",
    "    clip_distribution[ math.floor(score * 100) ] += 1\n",
    "    \n",
    "    i += 30"
   ]
  },
  {
   "cell_type": "code",
   "execution_count": 7,
   "metadata": {
    "ExecuteTime": {
     "end_time": "2019-07-09T04:44:52.017110Z",
     "start_time": "2019-07-09T04:44:52.011105Z"
    }
   },
   "outputs": [
    {
     "name": "stdout",
     "output_type": "stream",
     "text": [
      "[ 0  0  0  0  0  0  0  0  0  0  0  0  0  0  0  0  0  0  0  0  0  0  0  0\n",
      "  0  0  0  0  1  0  1  1  1  1  0  0  2  0  2  1  1  2  0  1  5  1  1  2\n",
      "  1  2  0  5  2  1  3  3  0  1  1  2  1  0  1  2  1  0  4  2 10  5 11 15\n",
      "  4 11  8 17 18 25 24 26 28 28 45 49 43 53 63 68 68 65 60 62 44 18 16 10\n",
      "  4  2  1  0  0]\n"
     ]
    }
   ],
   "source": [
    "print(clip_distribution)"
   ]
  },
  {
   "cell_type": "code",
   "execution_count": 15,
   "metadata": {
    "ExecuteTime": {
     "end_time": "2019-09-15T12:43:48.694802Z",
     "start_time": "2019-09-15T12:43:48.670810Z"
    }
   },
   "outputs": [],
   "source": [
    "import glob\n",
    "import json\n",
    "import matplotlib.pyplot as plt"
   ]
  },
  {
   "cell_type": "code",
   "execution_count": 16,
   "metadata": {
    "ExecuteTime": {
     "end_time": "2019-09-15T12:43:49.024696Z",
     "start_time": "2019-09-15T12:43:49.021715Z"
    }
   },
   "outputs": [],
   "source": [
    "DATA_PATH = \"../TwitchHighlightCrawler/vod/\" # const"
   ]
  },
  {
   "cell_type": "code",
   "execution_count": 81,
   "metadata": {
    "ExecuteTime": {
     "end_time": "2019-09-15T16:03:01.118552Z",
     "start_time": "2019-09-15T16:03:01.105547Z"
    },
    "code_folding": [
     6,
     20,
     22
    ]
   },
   "outputs": [],
   "source": [
    "def pltFrequencyDistribution(filename='', specific_video=0, only_chat=False):\n",
    "    mark = np.load(filename, allow_pickle=True)[specific_video]\n",
    "    \n",
    "    VIDEO_PATH = DATA_PATH + mark[0] + '/'+ mark[1] +'/' # local const\n",
    "    \n",
    "    # read video info\n",
    "    with open(VIDEO_PATH + 'info.json', \"r\", encoding=\"utf-8\") as file:\n",
    "        data = file.read()\n",
    "    videoInfo = json.loads(data)\n",
    "    \n",
    "    messageCountEachWindow = np.zeros(videoInfo['length'], dtype=int)\n",
    "    messagePathList = glob.glob(VIDEO_PATH + 'Message-*.json')\n",
    "    for path in messagePathList:\n",
    "        with open(path, \"r\", encoding=\"utf-8\") as file:\n",
    "            data = file.read()\n",
    "\n",
    "        commentData = json.loads(data)['comments']\n",
    "        for comment in commentData:\n",
    "            offset = math.floor( comment['content_offset_seconds'] ) # get comment offset\n",
    "            \n",
    "            if offset >= videoInfo['length']:\n",
    "                break\n",
    "            if only_chat and comment['source'] != 'chat':\n",
    "                continue\n",
    "            \n",
    "            messageCountEachWindow[ offset ] += 1\n",
    "            \n",
    "    maxMessageCount = messageCountEachWindow.max()\n",
    "    frequencyDistribution = np.zeros(maxMessageCount + 1, dtype=int)\n",
    "    for window in messageCountEachWindow:\n",
    "        frequencyDistribution[ window ] += 1\n",
    "    \n",
    "    maxFrequencyCount = frequencyDistribution.max()\n",
    "    plt.bar(range(len(frequencyDistribution)), frequencyDistribution)\n",
    "    plt.xticks(range(len(frequencyDistribution)))\n",
    "    for i, v in enumerate(frequencyDistribution):\n",
    "        plt.text(i - 0.12 * len(\"%i\" % v), v + 0.01*maxFrequencyCount, str(v))\n",
    "    plt.show()\n",
    "    \n",
    "    print(messageCountEachWindow.min())"
   ]
  },
  {
   "cell_type": "code",
   "execution_count": 87,
   "metadata": {
    "ExecuteTime": {
     "end_time": "2019-09-15T16:13:46.102162Z",
     "start_time": "2019-09-15T16:13:40.847794Z"
    }
   },
   "outputs": [
    {
     "data": {
      "image/png": "[encoded data removed]",
      "text/plain": [
       "<Figure size 432x288 with 1 Axes>"
      ]
     },
     "metadata": {
      "needs_background": "light"
     },
     "output_type": "display_data"
    },
    {
     "name": "stdout",
     "output_type": "stream",
     "text": [
      "0\n"
     ]
    }
   ],
   "source": [
    "pltFrequencyDistribution('training_mark-yb9ap3dscbr3p.npy', specific_video=5, only_chat=True)"
   ]
  },
  {
   "cell_type": "code",
   "execution_count": 20,
   "metadata": {
    "ExecuteTime": {
     "end_time": "2019-09-15T15:42:35.472002Z",
     "start_time": "2019-09-15T15:42:35.468004Z"
    }
   },
   "outputs": [
    {
     "data": {
      "text/plain": [
       "array([0., 0., 0., 0., 0.])"
      ]
     },
     "execution_count": 20,
     "metadata": {},
     "output_type": "execute_result"
    }
   ],
   "source": [
    "a  = np.zeros(5)\n",
    "a"
   ]
  },
  {
   "cell_type": "code",
   "execution_count": 59,
   "metadata": {
    "ExecuteTime": {
     "end_time": "2019-09-15T15:57:26.468435Z",
     "start_time": "2019-09-15T15:57:26.463446Z"
    }
   },
   "outputs": [
    {
     "data": {
      "text/plain": [
       "2"
      ]
     },
     "execution_count": 59,
     "metadata": {},
     "output_type": "execute_result"
    }
   ],
   "source": [
    "b = 55\n",
    "len(\"%i\" %b)"
   ]
  },
  {
   "cell_type": "code",
   "execution_count": null,
   "metadata": {},
   "outputs": [],
   "source": []
  }
 ],
 "metadata": {
  "kernelspec": {
   "display_name": "Python 3",
   "language": "python",
   "name": "python3"
  },
  "language_info": {
   "codemirror_mode": {
    "name": "ipython",
    "version": 3
   },
   "file_extension": ".py",
   "mimetype": "text/x-python",
   "name": "python",
   "nbconvert_exporter": "python",
   "pygments_lexer": "ipython3",
   "version": "3.6.8"
  }
 },
 "nbformat": 4,
 "nbformat_minor": 2
}
